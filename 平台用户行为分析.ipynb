{
 "cells": [
  {
   "cell_type": "markdown",
   "metadata": {},
   "source": [
    "- 本数据集共有大约1200万条数据，数据为淘宝APP2014年11月18日至2014年12月18日的用户行为数据，共6列字段，列字段分别是：\n",
    "    - user_id：用户身份，脱敏\n",
    "    - item_id：商品ID，脱敏\n",
    "    - behavior_type：用户行为类型（包含点击、收藏、加购物车、支付四种行为，分别用数字1、2、3、4表示）\n",
    "    - user_geohash：地理位置\n",
    "    - item_category：品类ID（商品所属的品类）\n",
    "    - time：用户行为发生的时间"
   ]
  },
  {
   "cell_type": "markdown",
   "metadata": {},
   "source": [
    "- 提出问题\n",
    "    - 不同时间维度下用户活跃度如何变化？\n",
    "    - 用户的留存情况如何（复购率及漏斗流失情况）？\n",
    "    - 用户价值情况？\n",
    "    - 不同商品的销售状况如何？"
   ]
  },
  {
   "cell_type": "code",
   "execution_count": 1,
   "metadata": {},
   "outputs": [],
   "source": [
    "import pandas as pd\n",
    "import numpy as np\n",
    "import matplotlib.pyplot as plt\n",
    "%matplotlib inline\n",
    "plt.rcParams['font.sans-serif']=['SimHei'] # 用来正常显示中文标签\n",
    "plt.rcParams['axes.unicode_minus']=False # 用来正常显示负号\n",
    "import seaborn as sns\n",
    "import warnings\n",
    "warnings.filterwarnings('ignore')"
   ]
  },
  {
   "cell_type": "markdown",
   "metadata": {},
   "source": [
    "### 数据预处理"
   ]
  },
  {
   "cell_type": "code",
   "execution_count": 2,
   "metadata": {},
   "outputs": [],
   "source": [
    "data = pd.read_csv('tianchi_mobile_recommend_train_user.csv')"
   ]
  },
  {
   "cell_type": "code",
   "execution_count": 82,
   "metadata": {},
   "outputs": [],
   "source": [
    "# 查看重复值数量\n"
   ]
  },
  {
   "cell_type": "code",
   "execution_count": 83,
   "metadata": {},
   "outputs": [],
   "source": [
    "# 删除重复值\n"
   ]
  },
  {
   "cell_type": "code",
   "execution_count": 84,
   "metadata": {},
   "outputs": [],
   "source": [
    "#查看缺失值\n"
   ]
  },
  {
   "cell_type": "code",
   "execution_count": 85,
   "metadata": {},
   "outputs": [],
   "source": [
    "# 缺失值均为地理信息，对用户行为分析无影响，不做处理\n"
   ]
  },
  {
   "cell_type": "code",
   "execution_count": 86,
   "metadata": {},
   "outputs": [],
   "source": [
    "#恢复索引\n"
   ]
  },
  {
   "cell_type": "code",
   "execution_count": 87,
   "metadata": {},
   "outputs": [],
   "source": [
    "# 将time列拆分为date列和hour列\n"
   ]
  },
  {
   "cell_type": "code",
   "execution_count": 88,
   "metadata": {},
   "outputs": [],
   "source": [
    "#将item_id和item_category转换成str\n"
   ]
  },
  {
   "cell_type": "markdown",
   "metadata": {},
   "source": [
    "### 用户行为分析（AARRR模型）"
   ]
  },
  {
   "cell_type": "markdown",
   "metadata": {},
   "source": [
    "#### 活跃度"
   ]
  },
  {
   "cell_type": "markdown",
   "metadata": {},
   "source": [
    "- 每天活跃度的变化\n",
    "    - 计算出日访问量，日独立访客量和人均访问量，封装成一个新的df"
   ]
  },
  {
   "cell_type": "code",
   "execution_count": 89,
   "metadata": {},
   "outputs": [],
   "source": [
    "#日访问量\n"
   ]
  },
  {
   "cell_type": "code",
   "execution_count": 90,
   "metadata": {},
   "outputs": [],
   "source": [
    "#日独立访客量\n"
   ]
  },
  {
   "cell_type": "code",
   "execution_count": 91,
   "metadata": {},
   "outputs": [],
   "source": [
    "#人均访问量（日访问量/日独立访问量）\n"
   ]
  },
  {
   "cell_type": "markdown",
   "metadata": {},
   "source": [
    "- 结论：在12月5日之前，活跃度在一定水平上波动。12月5日后，活跃度开始明显上升，并在双十二当天达到峰值。\n",
    "- 可能原因：12月5日之后双十二预热活动开始，用户活跃度上升。"
   ]
  },
  {
   "cell_type": "markdown",
   "metadata": {},
   "source": [
    "- 双十二当天活跃度的变化\n",
    "    - 选择双十二当天的数据，分析其活跃时间段\n",
    "        - 双12当天每小时的访问量\n",
    "        - 双12当天每小时的访客量\n",
    "        - 双12当天每小时的人均访问量\n",
    "            - 形成一个新的df"
   ]
  },
  {
   "cell_type": "code",
   "execution_count": 92,
   "metadata": {},
   "outputs": [],
   "source": [
    "#取出双12当天的数据\n"
   ]
  },
  {
   "cell_type": "code",
   "execution_count": 93,
   "metadata": {},
   "outputs": [],
   "source": [
    "#查看双12当天每小时的访问量\n",
    "#查看双12当天每小时的访客量\n",
    "#查看双12当天每小时的人均访问量\n"
   ]
  },
  {
   "cell_type": "markdown",
   "metadata": {},
   "source": [
    "- 结论：双十二当天0点和18点之后淘宝用户活跃度较高，6点跌至最低点。\n",
    "- 建议：商家可以在18点后设置优惠券或采取其他促销手段，吸引更多人消费，提高购买率。"
   ]
  },
  {
   "cell_type": "markdown",
   "metadata": {},
   "source": [
    "- 不同用户行为下的活跃度变化\n",
    "    - 查看每天不同行为的各自的总量\n",
    "        - 提示：源数据中的一行数据表示一个用户的某一个行为的数据\n",
    "        - 注意：aggfunc的count和size的区别"
   ]
  },
  {
   "cell_type": "code",
   "execution_count": null,
   "metadata": {},
   "outputs": [],
   "source": []
  },
  {
   "cell_type": "markdown",
   "metadata": {},
   "source": [
    "- 将四种行为的总量绘制在一个坐标系中查看"
   ]
  },
  {
   "cell_type": "code",
   "execution_count": null,
   "metadata": {},
   "outputs": [],
   "source": []
  },
  {
   "cell_type": "markdown",
   "metadata": {},
   "source": [
    "- 结论：\n",
    "    - 点击、收藏、加购物车、支付这四种行为均在双十二当天达到顶峰。\n",
    "    - 只观察支付和收藏，发现双十二当天支付量大于收藏量。\n",
    "        - 支付量大于收藏量说明很多用户购买了目标之外的商品，可能是受到促销的影响冲动消费，又或者是为了凑单等。\n"
   ]
  },
  {
   "cell_type": "markdown",
   "metadata": {},
   "source": [
    "#### 留存率"
   ]
  },
  {
   "attachments": {
    "image.png": {
     "image/png": "[encoded data removed]"
    }
   },
   "cell_type": "markdown",
   "metadata": {},
   "source": [
    "- 漏斗转化情况\n",
    "    - 查看不同行为的总量，封装到df中\n",
    "    ![image.png](attachment:image.png)\n",
    "    - 单一环节转化率(%)-各环节转换率作为新的列存在\n",
    "        - 计算点击到收藏、收藏到加购，加购到支付的转化率\n",
    "    - 整体转化率(%)-作为新的一列存在\n",
    "        - 计算点击到收藏、加购和支付的整体转化率\n",
    "    - 每一环节流失率(%)\n",
    "        - 100-单一环节转化率"
   ]
  },
  {
   "cell_type": "code",
   "execution_count": 94,
   "metadata": {
    "scrolled": true
   },
   "outputs": [],
   "source": [
    "#查看不同行为的访问量，封装到df中\n"
   ]
  },
  {
   "cell_type": "code",
   "execution_count": 96,
   "metadata": {},
   "outputs": [],
   "source": [
    "#计算单一环节转换率：点击到收藏、收藏到加购，加购到支付的转化率，作为df新的一列\n"
   ]
  },
  {
   "cell_type": "code",
   "execution_count": 97,
   "metadata": {},
   "outputs": [],
   "source": [
    "#计算整体转化率\n"
   ]
  },
  {
   "cell_type": "code",
   "execution_count": 98,
   "metadata": {},
   "outputs": [],
   "source": [
    "#计算每一环节流失率(%)\n"
   ]
  },
  {
   "cell_type": "code",
   "execution_count": 55,
   "metadata": {
    "collapsed": true
   },
   "outputs": [
    {
     "data": {
      "text/html": [
       "\n",
       "<script>\n",
       "    require.config({\n",
       "        paths: {\n",
       "            'echarts':'https://assets.pyecharts.org/assets/echarts.min'\n",
       "        }\n",
       "    });\n",
       "</script>\n",
       "\n",
       "        <div id=\"05cb63a072a74e3a87c9df2623634efb\" style=\"width:900px; height:500px;\"></div>\n",
       "\n",
       "<script>\n",
       "        require(['echarts'], function(echarts) {\n",
       "                var chart_05cb63a072a74e3a87c9df2623634efb = echarts.init(\n",
       "                    document.getElementById('05cb63a072a74e3a87c9df2623634efb'), 'white', {renderer: 'canvas'});\n",
       "                var option_05cb63a072a74e3a87c9df2623634efb = {\n",
       "    \"animation\": true,\n",
       "    \"animationThreshold\": 2000,\n",
       "    \"animationDuration\": 1000,\n",
       "    \"animationEasing\": \"cubicOut\",\n",
       "    \"animationDelay\": 0,\n",
       "    \"animationDurationUpdate\": 300,\n",
       "    \"animationEasingUpdate\": \"cubicOut\",\n",
       "    \"animationDelayUpdate\": 0,\n",
       "    \"color\": [\n",
       "        \"#c23531\",\n",
       "        \"#2f4554\",\n",
       "        \"#61a0a8\",\n",
       "        \"#d48265\",\n",
       "        \"#749f83\",\n",
       "        \"#ca8622\",\n",
       "        \"#bda29a\",\n",
       "        \"#6e7074\",\n",
       "        \"#546570\",\n",
       "        \"#c4ccd3\",\n",
       "        \"#f05b72\",\n",
       "        \"#ef5b9c\",\n",
       "        \"#f47920\",\n",
       "        \"#905a3d\",\n",
       "        \"#fab27b\",\n",
       "        \"#2a5caa\",\n",
       "        \"#444693\",\n",
       "        \"#726930\",\n",
       "        \"#b2d235\",\n",
       "        \"#6d8346\",\n",
       "        \"#ac6767\",\n",
       "        \"#1d953f\",\n",
       "        \"#6950a1\",\n",
       "        \"#918597\"\n",
       "    ],\n",
       "    \"series\": [\n",
       "        {\n",
       "            \"type\": \"funnel\",\n",
       "            \"name\": \"\\u6574\\u4f53\\u8f6c\\u5316\\u7387(%)\",\n",
       "            \"data\": [\n",
       "                {\n",
       "                    \"name\": \"\\u70b9\\u51fb\",\n",
       "                    \"value\": 100.0\n",
       "                },\n",
       "                {\n",
       "                    \"name\": \"\\u6536\\u85cf\",\n",
       "                    \"value\": 4.457380976639099\n",
       "                },\n",
       "                {\n",
       "                    \"name\": \"\\u52a0\\u8d2d\\u7269\\u8f66\",\n",
       "                    \"value\": 3.221239302491564\n",
       "                },\n",
       "                {\n",
       "                    \"name\": \"\\u652f\\u4ed8\",\n",
       "                    \"value\": 1.479754590071129\n",
       "                }\n",
       "            ],\n",
       "            \"sort\": \"descending\",\n",
       "            \"gap\": 0,\n",
       "            \"label\": {\n",
       "                \"show\": true,\n",
       "                \"position\": \"inside\",\n",
       "                \"margin\": 8\n",
       "            },\n",
       "            \"tooltip\": {\n",
       "                \"show\": true,\n",
       "                \"trigger\": \"item\",\n",
       "                \"triggerOn\": \"mousemove|click\",\n",
       "                \"axisPointer\": {\n",
       "                    \"type\": \"line\"\n",
       "                },\n",
       "                \"showContent\": true,\n",
       "                \"alwaysShowContent\": false,\n",
       "                \"showDelay\": 0,\n",
       "                \"hideDelay\": 100,\n",
       "                \"formatter\": \"{a}<br/>{b}:{c}%\",\n",
       "                \"textStyle\": {\n",
       "                    \"fontSize\": 14\n",
       "                },\n",
       "                \"borderWidth\": 0,\n",
       "                \"padding\": 5\n",
       "            },\n",
       "            \"rippleEffect\": {\n",
       "                \"show\": true,\n",
       "                \"brushType\": \"stroke\",\n",
       "                \"scale\": 2.5,\n",
       "                \"period\": 4\n",
       "            }\n",
       "        }\n",
       "    ],\n",
       "    \"legend\": [\n",
       "        {\n",
       "            \"data\": [\n",
       "                \"\\u70b9\\u51fb\",\n",
       "                \"\\u6536\\u85cf\",\n",
       "                \"\\u52a0\\u8d2d\\u7269\\u8f66\",\n",
       "                \"\\u652f\\u4ed8\"\n",
       "            ],\n",
       "            \"selected\": {\n",
       "                \"\\u70b9\\u51fb\": true,\n",
       "                \"\\u6536\\u85cf\": true,\n",
       "                \"\\u52a0\\u8d2d\\u7269\\u8f66\": true,\n",
       "                \"\\u652f\\u4ed8\": true\n",
       "            },\n",
       "            \"show\": true,\n",
       "            \"padding\": 5,\n",
       "            \"itemGap\": 10,\n",
       "            \"itemWidth\": 25,\n",
       "            \"itemHeight\": 14\n",
       "        }\n",
       "    ],\n",
       "    \"tooltip\": {\n",
       "        \"show\": true,\n",
       "        \"trigger\": \"item\",\n",
       "        \"triggerOn\": \"mousemove|click\",\n",
       "        \"axisPointer\": {\n",
       "            \"type\": \"line\"\n",
       "        },\n",
       "        \"showContent\": true,\n",
       "        \"alwaysShowContent\": false,\n",
       "        \"showDelay\": 0,\n",
       "        \"hideDelay\": 100,\n",
       "        \"textStyle\": {\n",
       "            \"fontSize\": 14\n",
       "        },\n",
       "        \"borderWidth\": 0,\n",
       "        \"padding\": 5\n",
       "    },\n",
       "    \"title\": [\n",
       "        {\n",
       "            \"text\": \"\\u6574\\u4f53\\u8f6c\\u5316\\u7387(%)\",\n",
       "            \"padding\": 5,\n",
       "            \"itemGap\": 10\n",
       "        }\n",
       "    ]\n",
       "};\n",
       "                chart_05cb63a072a74e3a87c9df2623634efb.setOption(option_05cb63a072a74e3a87c9df2623634efb);\n",
       "        });\n",
       "    </script>\n"
      ],
      "text/plain": [
       "<pyecharts.render.display.HTML at 0x1a216036a0>"
      ]
     },
     "execution_count": 55,
     "metadata": {},
     "output_type": "execute_result"
    }
   ],
   "source": [
    "#整体转化率的漏斗转化图\n",
    "from pyecharts.charts import Funnel\n",
    "from pyecharts import options as opts\n",
    "funnel = Funnel().add(\n",
    "                series_name = '整体转化率(%)',\n",
    "                data_pair = [ list(z) for z in zip(df['用户行为'],df['整体转化率(%)']) ],\n",
    "                is_selected = True,\n",
    "                label_opts = opts.LabelOpts(position = 'inside')\n",
    "                )\n",
    "funnel.set_series_opts(tooltip_opts = opts.TooltipOpts(formatter = '{a}<br/>{b}:{c}%'))\n",
    "funnel.set_global_opts(title_opts = opts.TitleOpts(title = '整体转化率(%)') )\n",
    "funnel.render_notebook()"
   ]
  },
  {
   "cell_type": "markdown",
   "metadata": {},
   "source": [
    "- 结论：用户的流失主要发生在点击-收藏环节。"
   ]
  },
  {
   "cell_type": "markdown",
   "metadata": {},
   "source": [
    "- 可能原因及建议\n",
    "    - 点击-收藏环节流失\n",
    "        - 原因：用户被投放的广告吸引，进入后发现与预期严重不合，造成流失。\n",
    "        - 建议：优化广告。\n",
    "        - 原因：客户通过检索或推荐到列表页面但没找到合适的产品，造成流失。\n",
    "        - 建议：更新搜索引擎和相关算法，尽可能精准推送相关内容。\n",
    "        - 原因：如果商品的评价过低，造成流失。\n",
    "        - 建议：商家要做进一步调查，分析用户对商品评价低的原因，进一步改进，提升用户的购物体验，最终可以口碑营销。\n",
    "    - 收藏-加购物车环节流失\n",
    "        - 此类用户有较强的购买需求。可以对用户进行精准推送促销信息，刺激用户完成购买。\n",
    "    - 加购物车-支付环节流失\n",
    "        - 原因：生成订单页面步骤过多。\n",
    "        - 建议:\n",
    "            - 优化购物流程，尽可能支持多种支付方式，如银行卡、微信支付、支付宝支付、花呗等。\n",
    "            - 考虑目前到淘宝的购物流程已经很难再简化，需要商家进一步调查，了解用户放弃支付的原因，方便做出调整。"
   ]
  },
  {
   "cell_type": "markdown",
   "metadata": {},
   "source": [
    "#### 复购情况分析\n",
    "- 用户购买次数直方图\n",
    "- 计算复购率=购买次数大于1的用户数量/有购买行为的用户总数"
   ]
  },
  {
   "cell_type": "code",
   "execution_count": 99,
   "metadata": {},
   "outputs": [],
   "source": [
    "#用户购买次数直方图（先获取购买商品的行数据）\n"
   ]
  },
  {
   "cell_type": "code",
   "execution_count": 100,
   "metadata": {},
   "outputs": [],
   "source": [
    "#计算复购率=购买次数大于1的用户数量/有购买行为的用户总数\n"
   ]
  },
  {
   "cell_type": "markdown",
   "metadata": {},
   "source": [
    "- 结论：2014年11月18日至2014年12月18日这一个月用户复购率高达91.45%"
   ]
  },
  {
   "cell_type": "markdown",
   "metadata": {},
   "source": [
    "### 用户价值分析（RMF模型）\n",
    "- 对已购用户进行价值划分\n",
    "- 各类用户占比"
   ]
  },
  {
   "cell_type": "code",
   "execution_count": 101,
   "metadata": {},
   "outputs": [],
   "source": [
    "#将已购用户的数据单独取出\n"
   ]
  },
  {
   "cell_type": "code",
   "execution_count": 102,
   "metadata": {},
   "outputs": [],
   "source": [
    "#计算R：R表示客户最近一次交易时间的间隔\n",
    "#/np.timedelta64(1,'D')去出days\n"
   ]
  },
  {
   "cell_type": "code",
   "execution_count": 103,
   "metadata": {},
   "outputs": [],
   "source": [
    "#计算F：每个用户消费频率\n"
   ]
  },
  {
   "cell_type": "code",
   "execution_count": 64,
   "metadata": {},
   "outputs": [],
   "source": [
    "# 交易金额缺失，只考虑最后交易日期和交易频率两个维度"
   ]
  },
  {
   "cell_type": "code",
   "execution_count": null,
   "metadata": {},
   "outputs": [],
   "source": []
  },
  {
   "cell_type": "code",
   "execution_count": 66,
   "metadata": {
    "collapsed": true
   },
   "outputs": [
    {
     "data": {
      "text/html": [
       "<div>\n",
       "<style scoped>\n",
       "    .dataframe tbody tr th:only-of-type {\n",
       "        vertical-align: middle;\n",
       "    }\n",
       "\n",
       "    .dataframe tbody tr th {\n",
       "        vertical-align: top;\n",
       "    }\n",
       "\n",
       "    .dataframe thead th {\n",
       "        text-align: right;\n",
       "    }\n",
       "</style>\n",
       "<table border=\"1\" class=\"dataframe\">\n",
       "  <thead>\n",
       "    <tr style=\"text-align: right;\">\n",
       "      <th></th>\n",
       "      <th>R</th>\n",
       "      <th>F</th>\n",
       "      <th>R_value</th>\n",
       "      <th>F_value</th>\n",
       "      <th>rfm</th>\n",
       "      <th>user_type</th>\n",
       "    </tr>\n",
       "    <tr>\n",
       "      <th>user_id</th>\n",
       "      <th></th>\n",
       "      <th></th>\n",
       "      <th></th>\n",
       "      <th></th>\n",
       "      <th></th>\n",
       "      <th></th>\n",
       "    </tr>\n",
       "  </thead>\n",
       "  <tbody>\n",
       "    <tr>\n",
       "      <th>4913</th>\n",
       "      <td>2.0</td>\n",
       "      <td>6.0</td>\n",
       "      <td>1</td>\n",
       "      <td>0</td>\n",
       "      <td>10</td>\n",
       "      <td>重要发展客户</td>\n",
       "    </tr>\n",
       "    <tr>\n",
       "      <th>6118</th>\n",
       "      <td>1.0</td>\n",
       "      <td>1.0</td>\n",
       "      <td>1</td>\n",
       "      <td>0</td>\n",
       "      <td>10</td>\n",
       "      <td>重要发展客户</td>\n",
       "    </tr>\n",
       "    <tr>\n",
       "      <th>7528</th>\n",
       "      <td>5.0</td>\n",
       "      <td>6.0</td>\n",
       "      <td>1</td>\n",
       "      <td>0</td>\n",
       "      <td>10</td>\n",
       "      <td>重要发展客户</td>\n",
       "    </tr>\n",
       "    <tr>\n",
       "      <th>7591</th>\n",
       "      <td>5.0</td>\n",
       "      <td>21.0</td>\n",
       "      <td>1</td>\n",
       "      <td>1</td>\n",
       "      <td>11</td>\n",
       "      <td>重要价值客户</td>\n",
       "    </tr>\n",
       "    <tr>\n",
       "      <th>12645</th>\n",
       "      <td>4.0</td>\n",
       "      <td>8.0</td>\n",
       "      <td>1</td>\n",
       "      <td>0</td>\n",
       "      <td>10</td>\n",
       "      <td>重要发展客户</td>\n",
       "    </tr>\n",
       "  </tbody>\n",
       "</table>\n",
       "</div>"
      ],
      "text/plain": [
       "           R     F R_value F_value rfm user_type\n",
       "user_id                                         \n",
       "4913     2.0   6.0       1       0  10    重要发展客户\n",
       "6118     1.0   1.0       1       0  10    重要发展客户\n",
       "7528     5.0   6.0       1       0  10    重要发展客户\n",
       "7591     5.0  21.0       1       1  11    重要价值客户\n",
       "12645    4.0   8.0       1       0  10    重要发展客户"
      ]
     },
     "execution_count": 66,
     "metadata": {},
     "output_type": "execute_result"
    }
   ],
   "source": [
    "#将各维度分成两个程度\n",
    "recent_avg = rfm['R'].mean()\n",
    "freq_avg = rfm['F'].mean()\n",
    "#R应该是越小越好，则R小于均值返回1，否则返回0\n",
    "def rec_value(x):\n",
    "    if x < recent_avg:\n",
    "        return '1'\n",
    "    else:\n",
    "        return '0'\n",
    "#F应该是越大越好，则F大于均值返回1，否则返回0   \n",
    "def freq_value(x):\n",
    "    if x > freq_avg:\n",
    "        return '1'\n",
    "    else:\n",
    "        return '0'\n",
    "rfm['R_value'] = rfm['R'].apply(rec_value)\n",
    "rfm['F_value'] = rfm['F'].apply(freq_value)\n",
    "#将R和F拼接到一起\n",
    "rfm['rfm']=rfm['R_value'].str.cat(rfm['F_value'])\n",
    "#根据R和F的拼接判定用户等级\n",
    "def rfm_value(x):\n",
    "    if x == '10':#购买间隔短，但是购买频率低\n",
    "        return '重要发展客户'\n",
    "    elif x == '01':#购买间隔长，但是购买频率高\n",
    "        return '重要保持客户'\n",
    "    elif x == '00':\n",
    "        return '重要挽留客户'\n",
    "    else:\n",
    "        return '重要价值客户'\n",
    "rfm['user_type'] = rfm['rfm'].apply(rfm_value)\n",
    "rfm.head()"
   ]
  },
  {
   "cell_type": "code",
   "execution_count": 104,
   "metadata": {},
   "outputs": [],
   "source": [
    "#各类用户占比\n"
   ]
  },
  {
   "cell_type": "markdown",
   "metadata": {},
   "source": [
    "- 结论\n",
    "    - 重要挽留客户：占比最大，该类用户消费时间间隔较远，并且消费频次低。需要主动联系客户，调查清楚哪里出现了问题，可以通过短信，邮件，APP推送等唤醒客户，尽可能减少流失。\n",
    "    - 重要发展客户：消费频次低，可以适当给点折扣或捆绑销售来增加用户的购买频率，尽可能提高留存率。\n",
    "    - 重要价值客户：为重点用户，但用户比较少。可以针对性地给这类客户提供 VIP服务；\n",
    "    - 重要保持客户：消费时间间隔较远，但是消费频次高。该类用户可能一次性购买很多东西。对于这类客户，需要主动联系，关注他们的购物习性做精准化营销，及时满足这类用户的需求。\n"
   ]
  },
  {
   "cell_type": "code",
   "execution_count": null,
   "metadata": {},
   "outputs": [],
   "source": []
  }
 ],
 "metadata": {
  "kernelspec": {
   "display_name": "Python 3",
   "language": "python",
   "name": "python3"
  },
  "language_info": {
   "codemirror_mode": {
    "name": "ipython",
    "version": 3
   },
   "file_extension": ".py",
   "mimetype": "text/x-python",
   "name": "python",
   "nbconvert_exporter": "python",
   "pygments_lexer": "ipython3",
   "version": "3.7.1"
  }
 },
 "nbformat": 4,
 "nbformat_minor": 2
}
